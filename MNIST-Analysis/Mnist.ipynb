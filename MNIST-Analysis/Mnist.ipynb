{
 "cells": [
  {
   "cell_type": "code",
   "execution_count": 1,
   "id": "f27ac777",
   "metadata": {},
   "outputs": [],
   "source": [
    "import torch\n",
    "import torch.nn as nn\n",
    "import torch.nn.functional as F\n",
    "from torchvision import datasets, transforms\n",
    "from collections import Counter\n",
    "\n",
    "import numpy as np\n",
    "import matplotlib.pyplot as plt\n",
    "%matplotlib inline"
   ]
  },
  {
   "cell_type": "markdown",
   "id": "0a49b449",
   "metadata": {},
   "source": [
    "## Downloading the dataset"
   ]
  },
  {
   "cell_type": "code",
   "execution_count": 2,
   "id": "6f81e8ec",
   "metadata": {},
   "outputs": [],
   "source": [
    "train_set = datasets.MNIST(\"./data\", train = True,\n",
    "                         download = True,\n",
    "                         transform = transforms.ToTensor())\n",
    "test_set = datasets.MNIST(\"./data\", train = False,\n",
    "                        download = True,\n",
    "                        transform = transforms.ToTensor())"
   ]
  },
  {
   "cell_type": "code",
   "execution_count": 3,
   "id": "889cb63e",
   "metadata": {},
   "outputs": [
    {
     "data": {
      "text/plain": [
       "Dataset MNIST\n",
       "    Number of datapoints: 60000\n",
       "    Root location: ./data\n",
       "    Split: Train\n",
       "    StandardTransform\n",
       "Transform: ToTensor()"
      ]
     },
     "execution_count": 3,
     "metadata": {},
     "output_type": "execute_result"
    }
   ],
   "source": [
    "train_set"
   ]
  },
  {
   "cell_type": "code",
   "execution_count": 4,
   "id": "6f0e68d7",
   "metadata": {},
   "outputs": [],
   "source": [
    "image, label = train_set[0]"
   ]
  },
  {
   "cell_type": "code",
   "execution_count": 5,
   "id": "989c73eb",
   "metadata": {},
   "outputs": [
    {
     "data": {
      "text/plain": [
       "<matplotlib.image.AxesImage at 0x25d4593be50>"
      ]
     },
     "execution_count": 5,
     "metadata": {},
     "output_type": "execute_result"
    },
    {
     "data": {
      "image/png": "[encoded data removed]",
      "text/plain": [
       "<Figure size 432x288 with 1 Axes>"
      ]
     },
     "metadata": {
      "needs_background": "light"
     },
     "output_type": "display_data"
    }
   ],
   "source": [
    "plt.imshow(image.squeeze()) #just visualizing"
   ]
  },
  {
   "cell_type": "code",
   "execution_count": 6,
   "id": "05a41316",
   "metadata": {},
   "outputs": [
    {
     "data": {
      "text/plain": [
       "Dataset MNIST\n",
       "    Number of datapoints: 10000\n",
       "    Root location: ./data\n",
       "    Split: Test\n",
       "    StandardTransform\n",
       "Transform: ToTensor()"
      ]
     },
     "execution_count": 6,
     "metadata": {},
     "output_type": "execute_result"
    }
   ],
   "source": [
    "test_set"
   ]
  },
  {
   "cell_type": "code",
   "execution_count": 7,
   "id": "f197e61a",
   "metadata": {},
   "outputs": [],
   "source": [
    "image, label = test_set[0]"
   ]
  },
  {
   "cell_type": "code",
   "execution_count": 8,
   "id": "d7831e81",
   "metadata": {},
   "outputs": [
    {
     "data": {
      "text/plain": [
       "<matplotlib.image.AxesImage at 0x25d45a407c0>"
      ]
     },
     "execution_count": 8,
     "metadata": {},
     "output_type": "execute_result"
    },
    {
     "data": {
      "image/png": "[encoded data removed]",
      "text/plain": [
       "<Figure size 432x288 with 1 Axes>"
      ]
     },
     "metadata": {
      "needs_background": "light"
     },
     "output_type": "display_data"
    }
   ],
   "source": [
    "plt.imshow(image.squeeze())"
   ]
  },
  {
   "cell_type": "code",
   "execution_count": 9,
   "id": "0af73406",
   "metadata": {},
   "outputs": [
    {
     "name": "stdout",
     "output_type": "stream",
     "text": [
      "Training set label distribution: Counter({1: 6742, 7: 6265, 3: 6131, 2: 5958, 9: 5949, 0: 5923, 6: 5918, 8: 5851, 4: 5842, 5: 5421})\n",
      "Test set label distribution: Counter({1: 1135, 2: 1032, 7: 1028, 3: 1010, 9: 1009, 4: 982, 0: 980, 8: 974, 6: 958, 5: 892})\n"
     ]
    }
   ],
   "source": [
    "train_labels = [train_set[i][1] for i in range(len(train_set))]\n",
    "test_labels = [test_set[i][1] for i in range(len(test_set))]\n",
    "\n",
    "train_dist = Counter(train_labels)\n",
    "test_dist = Counter(test_labels)\n",
    "\n",
    "print(\"Training set label distribution:\", train_dist)\n",
    "print(\"Test set label distribution:\", test_dist)"
   ]
  },
  {
   "cell_type": "markdown",
   "id": "3730a113",
   "metadata": {},
   "source": [
    "## Taking a sample"
   ]
  },
  {
   "cell_type": "code",
   "execution_count": 10,
   "id": "d36b63c7",
   "metadata": {},
   "outputs": [],
   "source": [
    "train_sample = torch.utils.data.DataLoader(dataset = train_set, batch_size = 50, shuffle = True)\n",
    "test_sample = torch.utils.data.DataLoader(dataset = test_set, batch_size = 50, shuffle = False)"
   ]
  },
  {
   "cell_type": "code",
   "execution_count": 29,
   "id": "02f83b3d",
   "metadata": {},
   "outputs": [],
   "source": [
    "# for i in range(10):\n",
    "#     plt.subplot(1,10,i+1)\n",
    "#     image, label = train_set[i]\n",
    "#     plt.imshow(image.reshape((28,28)), cmap = \"gray\")"
   ]
  },
  {
   "cell_type": "markdown",
   "id": "d38d9261",
   "metadata": {},
   "source": [
    "## Defining a MLP"
   ]
  },
  {
   "cell_type": "code",
   "execution_count": 60,
   "id": "d1e89086",
   "metadata": {},
   "outputs": [],
   "source": [
    "#output 10 cause 10 classes\n",
    "class MultilayerPerceptron(nn.Module):\n",
    "    def __init__(self, input_size = 784, output_size = 10, layers = [120,84]):\n",
    "        super().__init__()\n",
    "        self.l1 = nn.Linear(input_size, layers[0]) #the first hidden layer takes 784 and gives out 120, we can use dropout after this line to drop some so we get a better ans\n",
    "        self.l2 = nn.Linear(layers[0], layers[1]) #2nd hidden layer takes 120 gives out 84, we can use dropout after this line to drop some so we get a better ans\n",
    "        self.l3 = nn.Linear(layers[1], output_size) #output layer takes 84 gives out 10\n",
    "        \n",
    "    def forward(self,X):\n",
    "        X = F.relu(self.l1(X))\n",
    "        X = F.relu(self.l2(X))\n",
    "        X = self.l3(X)\n",
    "        return F.log_softmax(X, dim = 1)\n",
    "model1 = MultilayerPerceptron()"
   ]
  },
  {
   "cell_type": "code",
   "execution_count": 63,
   "id": "29259bc1",
   "metadata": {},
   "outputs": [
    {
     "name": "stdout",
     "output_type": "stream",
     "text": [
      "MultilayerPerceptron(\n",
      "  (l1): Linear(in_features=784, out_features=120, bias=True)\n",
      "  (l2): Linear(in_features=120, out_features=84, bias=True)\n",
      "  (l3): Linear(in_features=84, out_features=10, bias=True)\n",
      ")\n"
     ]
    }
   ],
   "source": [
    "print(model1)"
   ]
  },
  {
   "cell_type": "code",
   "execution_count": 64,
   "id": "d5d14e96",
   "metadata": {},
   "outputs": [],
   "source": [
    "criterion1 = nn.CrossEntropyLoss() #loss\n",
    "optimizer1 = torch.optim.Adam(model1.parameters(), lr = 0.001)"
   ]
  },
  {
   "cell_type": "markdown",
   "id": "df61c936",
   "metadata": {},
   "source": [
    "## Training the model"
   ]
  },
  {
   "cell_type": "code",
   "execution_count": 33,
   "id": "84fd675b",
   "metadata": {},
   "outputs": [
    {
     "name": "stdout",
     "output_type": "stream",
     "text": [
      "Inital sample shape torch.Size([50, 1, 28, 28])\n",
      "Batch size after reshaping torch.Size([50, 784])\n"
     ]
    }
   ],
   "source": [
    "for images, labels in train_sample:\n",
    "    print(\"Inital sample shape\", images.size())\n",
    "    break\n",
    "print(\"Batch size after reshaping\", images.view(50,-1).size())"
   ]
  },
  {
   "cell_type": "code",
   "execution_count": 41,
   "id": "52d8b85b",
   "metadata": {},
   "outputs": [
    {
     "name": "stdout",
     "output_type": "stream",
     "text": [
      "epoch:  0 batch:  600 [ 60000/60000] Train loss: 0.00333927 Train accuracy: 99.53%\n",
      "epoch:  0 batch: 1200 [120000/60000] Train loss: 0.00015141 Train accuracy: 99.57%\n",
      "epoch:  1 batch:  600 [ 60000/60000] Train loss: 0.00752747 Train accuracy: 99.51%\n",
      "epoch:  1 batch: 1200 [120000/60000] Train loss: 0.01091244 Train accuracy: 99.56%\n",
      "epoch:  2 batch:  600 [ 60000/60000] Train loss: 0.00012639 Train accuracy: 99.59%\n",
      "epoch:  2 batch: 1200 [120000/60000] Train loss: 0.00541412 Train accuracy: 99.65%\n",
      "epoch:  3 batch:  600 [ 60000/60000] Train loss: 0.03881312 Train accuracy: 99.60%\n",
      "epoch:  3 batch: 1200 [120000/60000] Train loss: 0.00108259 Train accuracy: 99.57%\n",
      "epoch:  4 batch:  600 [ 60000/60000] Train loss: 0.00028837 Train accuracy: 99.46%\n",
      "epoch:  4 batch: 1200 [120000/60000] Train loss: 0.00272125 Train accuracy: 99.59%\n",
      "epoch:  5 batch:  600 [ 60000/60000] Train loss: 0.00115897 Train accuracy: 99.72%\n",
      "epoch:  5 batch: 1200 [120000/60000] Train loss: 0.00907595 Train accuracy: 99.72%\n",
      "epoch:  6 batch:  600 [ 60000/60000] Train loss: 0.00017920 Train accuracy: 99.63%\n",
      "epoch:  6 batch: 1200 [120000/60000] Train loss: 0.01932085 Train accuracy: 99.64%\n",
      "epoch:  7 batch:  600 [ 60000/60000] Train loss: 0.00001793 Train accuracy: 99.61%\n",
      "epoch:  7 batch: 1200 [120000/60000] Train loss: 0.00005130 Train accuracy: 99.66%\n",
      "epoch:  8 batch:  600 [ 60000/60000] Train loss: 0.00096664 Train accuracy: 99.65%\n",
      "epoch:  8 batch: 1200 [120000/60000] Train loss: 0.00004462 Train accuracy: 99.64%\n",
      "epoch:  9 batch:  600 [ 60000/60000] Train loss: 0.00160343 Train accuracy: 99.67%\n",
      "epoch:  9 batch: 1200 [120000/60000] Train loss: 0.00000645 Train accuracy: 99.69%\n"
     ]
    }
   ],
   "source": [
    "epochs = 10\n",
    "train_losses = []\n",
    "test_losses = []\n",
    "train_correct = []\n",
    "test_correct = []\n",
    "\n",
    "for i in range(epochs):\n",
    "    trn_corr = 0\n",
    "    tst_corr = 0\n",
    "    \n",
    "    for b, (x_train,y_train) in enumerate(train_sample):\n",
    "        b += 1\n",
    "        \n",
    "        y_pred = model1(x_train.view(50, -1)) #we flatten it so the input is 784\n",
    "        loss = criterion(y_pred, y_train)\n",
    "        \n",
    "        predicted = torch.max(y_pred.data, 1)[1] #takes the one with the highest prob\n",
    "        batch_corr = (predicted == y_train).sum() \n",
    "        trn_corr += batch_corr\n",
    "        \n",
    "        optimizer.zero_grad() #reset the gradients after training\n",
    "        loss.backward() #backprop\n",
    "        optimizer.step() #updates the parameter\n",
    "        \n",
    "        if b%600 == 0:\n",
    "            accuracy = (trn_corr.item() / ((b+1) * 50)) * 100\n",
    "            print(f'epoch: {i:2} batch: {b:4} [{100*b:6}/60000] Train loss: {loss.item():10.8f} Train accuracy: {accuracy:.2f}%' )\n",
    "    \n",
    "    train_losses.append(loss)\n",
    "    train_correct.append(trn_corr)"
   ]
  },
  {
   "cell_type": "code",
   "execution_count": 42,
   "id": "7909d1e8",
   "metadata": {},
   "outputs": [],
   "source": [
    "#testing how we do nograd so we dont calc gradients\n",
    "with torch.no_grad():\n",
    "        for b, (x_test,y_test) in enumerate(test_sample):\n",
    "            y_val = model1(x_test.view(50,-1))\n",
    "\n",
    "            predicted = torch.max(y_val.data, 1)[1]\n",
    "            tst_corr += (predicted == y_test).sum()\n",
    "loss = criterion(y_val,y_test)\n",
    "test_losses.append(loss)\n",
    "test_correct.append(tst_corr)    "
   ]
  },
  {
   "cell_type": "code",
   "execution_count": 43,
   "id": "472bfd24",
   "metadata": {},
   "outputs": [
    {
     "name": "stdout",
     "output_type": "stream",
     "text": [
      "test accuracy: 97.9%\n"
     ]
    }
   ],
   "source": [
    "print(f'test accuracy: {test_correct[-1].item()*100/10000:}%')"
   ]
  },
  {
   "cell_type": "markdown",
   "id": "f40117a4",
   "metadata": {},
   "source": [
    "## MLP other method\n"
   ]
  },
  {
   "cell_type": "code",
   "execution_count": 11,
   "id": "4da26938",
   "metadata": {},
   "outputs": [
    {
     "name": "stdout",
     "output_type": "stream",
     "text": [
      "Net(\n",
      "  (f1): Linear(in_features=784, out_features=50, bias=True)\n",
      "  (f2): Linear(in_features=50, out_features=50, bias=True)\n",
      "  (f3): Linear(in_features=50, out_features=10, bias=True)\n",
      ")\n"
     ]
    }
   ],
   "source": [
    "class Net(nn.Module):\n",
    "    def __init__(self):\n",
    "        super(Net,self).__init__()\n",
    "        self.f1 = nn.Linear(28*28,50) #first layer output 50\n",
    "        self.f2 = nn.Linear(50,50) #2nd layer output 50\n",
    "        self.f3 = nn.Linear(50,10) #output layer\n",
    "        \n",
    "    def forward(self, X):\n",
    "        X = X.view(-1, 28*28) #flattened it \n",
    "        X = F.relu(self.f1(X)) #using relu\n",
    "        X = F.relu(self.f2(X))\n",
    "        return F.log_softmax(self.f3(X), dim = 1)\n",
    "\n",
    "modelz = Net()\n",
    "optimizerr = torch.optim.Adam(modelz.parameters(), lr = 0.01)\n",
    "criterionn = nn.CrossEntropyLoss()\n",
    "\n",
    "print(modelz)"
   ]
  },
  {
   "cell_type": "code",
   "execution_count": 30,
   "id": "cb8253dc",
   "metadata": {},
   "outputs": [],
   "source": [
    "def train(epoch, model, training_sample, optimizer, criterion, log_interval = 200):\n",
    "    model.train()\n",
    "    \n",
    "    for batch_idx, (data,target) in enumerate(training_sample):\n",
    "        optimizer.zero_grad() #reset the gradients every time\n",
    "        \n",
    "        output = model(data)\n",
    "        \n",
    "        loss = criterion(output,target) \n",
    "        \n",
    "        loss.backward() #triggering backward\n",
    "        \n",
    "        optimizer.step() #updates the parameter\n",
    "        \n",
    "        if batch_idx % log_interval == 0:\n",
    "            print('Train Epoch: {} [{}/{} ({:.0f}%)]\\tLoss: {:.6f}'.format(\n",
    "                epoch, batch_idx * len(data), len(training_sample.dataset),\n",
    "                100. * batch_idx / len(training_sample), loss.data.item()))"
   ]
  },
  {
   "cell_type": "code",
   "execution_count": 32,
   "id": "2215f16a",
   "metadata": {},
   "outputs": [],
   "source": [
    "def validate(model, testing_sample, criterion, loss_vector, accuracy_vector):\n",
    "    model.eval()\n",
    "    val_loss, correct = 0,0\n",
    "    \n",
    "    with torch.no_grad():\n",
    "        for data,target in testing_sample:\n",
    "            output = model(data)\n",
    "            val_loss += criterion(output, target).data.item()\n",
    "            pred = output.data.max(1)[1]\n",
    "            correct += pred.eq(target.data).sum().item()\n",
    "\n",
    "    val_loss /= len(testing_sample)\n",
    "    loss_vector.append(val_loss)\n",
    "    accuracy = 100. *correct/ len(testing_sample.dataset)\n",
    "    accuracy_vector.append(accuracy)\n",
    "    \n",
    "    print('\\nValidation set: Average loss: {:.4f}, Accuracy: {}/{} ({:.0f}%)\\n'.format(\n",
    "        val_loss, correct, len(testing_sample.dataset), accuracy))"
   ]
  },
  {
   "cell_type": "code",
   "execution_count": 34,
   "id": "0761e82b",
   "metadata": {},
   "outputs": [],
   "source": [
    "def looop(model, epochs, training_sample, testing_sample, optimizer, criterion,  lossv, accv):\n",
    "    for epoch in range(1, epochs + 1):\n",
    "        train(epoch, model, training_sample, optimizer, criterion)\n",
    "        validate(model, testing_sample, criterion, lossv, accv)"
   ]
  },
  {
   "cell_type": "code",
   "execution_count": 35,
   "id": "9e181b62",
   "metadata": {},
   "outputs": [
    {
     "name": "stdout",
     "output_type": "stream",
     "text": [
      "Train Epoch: 1 [0/60000 (0%)]\tLoss: 0.080365\n",
      "Train Epoch: 1 [10000/60000 (17%)]\tLoss: 0.016592\n",
      "Train Epoch: 1 [20000/60000 (33%)]\tLoss: 0.019683\n",
      "Train Epoch: 1 [30000/60000 (50%)]\tLoss: 0.218085\n",
      "Train Epoch: 1 [40000/60000 (67%)]\tLoss: 0.097179\n",
      "Train Epoch: 1 [50000/60000 (83%)]\tLoss: 0.016176\n",
      "\n",
      "Validation set: Average loss: 0.1923, Accuracy: 9595/10000 (96%)\n",
      "\n",
      "Train Epoch: 2 [0/60000 (0%)]\tLoss: 0.017350\n",
      "Train Epoch: 2 [10000/60000 (17%)]\tLoss: 0.042540\n",
      "Train Epoch: 2 [20000/60000 (33%)]\tLoss: 0.094599\n",
      "Train Epoch: 2 [30000/60000 (50%)]\tLoss: 0.013284\n",
      "Train Epoch: 2 [40000/60000 (67%)]\tLoss: 0.178886\n",
      "Train Epoch: 2 [50000/60000 (83%)]\tLoss: 0.241559\n",
      "\n",
      "Validation set: Average loss: 0.1721, Accuracy: 9596/10000 (96%)\n",
      "\n",
      "Train Epoch: 3 [0/60000 (0%)]\tLoss: 0.006819\n",
      "Train Epoch: 3 [10000/60000 (17%)]\tLoss: 0.116139\n",
      "Train Epoch: 3 [20000/60000 (33%)]\tLoss: 0.060569\n",
      "Train Epoch: 3 [30000/60000 (50%)]\tLoss: 0.361430\n",
      "Train Epoch: 3 [40000/60000 (67%)]\tLoss: 0.092401\n",
      "Train Epoch: 3 [50000/60000 (83%)]\tLoss: 0.019657\n",
      "\n",
      "Validation set: Average loss: 0.1971, Accuracy: 9638/10000 (96%)\n",
      "\n",
      "Train Epoch: 4 [0/60000 (0%)]\tLoss: 0.007484\n",
      "Train Epoch: 4 [10000/60000 (17%)]\tLoss: 0.069129\n",
      "Train Epoch: 4 [20000/60000 (33%)]\tLoss: 0.027662\n",
      "Train Epoch: 4 [30000/60000 (50%)]\tLoss: 0.193786\n",
      "Train Epoch: 4 [40000/60000 (67%)]\tLoss: 0.057315\n",
      "Train Epoch: 4 [50000/60000 (83%)]\tLoss: 0.031325\n",
      "\n",
      "Validation set: Average loss: 0.2139, Accuracy: 9609/10000 (96%)\n",
      "\n",
      "Train Epoch: 5 [0/60000 (0%)]\tLoss: 0.077857\n",
      "Train Epoch: 5 [10000/60000 (17%)]\tLoss: 0.102289\n",
      "Train Epoch: 5 [20000/60000 (33%)]\tLoss: 0.192181\n",
      "Train Epoch: 5 [30000/60000 (50%)]\tLoss: 0.007704\n",
      "Train Epoch: 5 [40000/60000 (67%)]\tLoss: 0.150436\n",
      "Train Epoch: 5 [50000/60000 (83%)]\tLoss: 0.008477\n",
      "\n",
      "Validation set: Average loss: 0.2113, Accuracy: 9640/10000 (96%)\n",
      "\n",
      "Train Epoch: 6 [0/60000 (0%)]\tLoss: 0.075283\n",
      "Train Epoch: 6 [10000/60000 (17%)]\tLoss: 0.055047\n",
      "Train Epoch: 6 [20000/60000 (33%)]\tLoss: 0.151778\n",
      "Train Epoch: 6 [30000/60000 (50%)]\tLoss: 0.026455\n",
      "Train Epoch: 6 [40000/60000 (67%)]\tLoss: 0.044732\n",
      "Train Epoch: 6 [50000/60000 (83%)]\tLoss: 0.047582\n",
      "\n",
      "Validation set: Average loss: 0.2220, Accuracy: 9631/10000 (96%)\n",
      "\n",
      "Train Epoch: 7 [0/60000 (0%)]\tLoss: 0.032921\n",
      "Train Epoch: 7 [10000/60000 (17%)]\tLoss: 0.040768\n",
      "Train Epoch: 7 [20000/60000 (33%)]\tLoss: 0.068280\n",
      "Train Epoch: 7 [30000/60000 (50%)]\tLoss: 0.115877\n",
      "Train Epoch: 7 [40000/60000 (67%)]\tLoss: 0.010030\n",
      "Train Epoch: 7 [50000/60000 (83%)]\tLoss: 0.105249\n",
      "\n",
      "Validation set: Average loss: 0.1970, Accuracy: 9671/10000 (97%)\n",
      "\n",
      "Train Epoch: 8 [0/60000 (0%)]\tLoss: 0.299056\n",
      "Train Epoch: 8 [10000/60000 (17%)]\tLoss: 0.082957\n",
      "Train Epoch: 8 [20000/60000 (33%)]\tLoss: 0.054274\n",
      "Train Epoch: 8 [30000/60000 (50%)]\tLoss: 0.011946\n",
      "Train Epoch: 8 [40000/60000 (67%)]\tLoss: 0.167128\n",
      "Train Epoch: 8 [50000/60000 (83%)]\tLoss: 0.020782\n",
      "\n",
      "Validation set: Average loss: 0.2232, Accuracy: 9641/10000 (96%)\n",
      "\n",
      "Train Epoch: 9 [0/60000 (0%)]\tLoss: 0.003939\n",
      "Train Epoch: 9 [10000/60000 (17%)]\tLoss: 0.004825\n",
      "Train Epoch: 9 [20000/60000 (33%)]\tLoss: 0.000323\n",
      "Train Epoch: 9 [30000/60000 (50%)]\tLoss: 0.065864\n",
      "Train Epoch: 9 [40000/60000 (67%)]\tLoss: 0.200993\n",
      "Train Epoch: 9 [50000/60000 (83%)]\tLoss: 0.120956\n",
      "\n",
      "Validation set: Average loss: 0.1650, Accuracy: 9683/10000 (97%)\n",
      "\n",
      "Train Epoch: 10 [0/60000 (0%)]\tLoss: 0.055288\n",
      "Train Epoch: 10 [10000/60000 (17%)]\tLoss: 0.193309\n",
      "Train Epoch: 10 [20000/60000 (33%)]\tLoss: 0.099322\n",
      "Train Epoch: 10 [30000/60000 (50%)]\tLoss: 0.065593\n",
      "Train Epoch: 10 [40000/60000 (67%)]\tLoss: 0.121041\n",
      "Train Epoch: 10 [50000/60000 (83%)]\tLoss: 0.006344\n",
      "\n",
      "Validation set: Average loss: 0.1778, Accuracy: 9667/10000 (97%)\n",
      "\n"
     ]
    }
   ],
   "source": [
    "epochss = 10\n",
    "lossmv, accmv = [],[]\n",
    "looop(model = modelz, epochs = epochss, training_sample = train_sample, testing_sample = test_sample,\n",
    "      optimizer = optimizerr, criterion = criterionn, lossv = lossmv, accv = accmv)"
   ]
  },
  {
   "cell_type": "code",
   "execution_count": 36,
   "id": "db18af22",
   "metadata": {},
   "outputs": [
    {
     "data": {
      "image/png": "[encoded data removed]",
      "text/plain": [
       "<Figure size 360x216 with 1 Axes>"
      ]
     },
     "metadata": {
      "needs_background": "light"
     },
     "output_type": "display_data"
    },
    {
     "data": {
      "image/png": "[encoded data removed]",
      "text/plain": [
       "<Figure size 360x216 with 1 Axes>"
      ]
     },
     "metadata": {
      "needs_background": "light"
     },
     "output_type": "display_data"
    }
   ],
   "source": [
    "#visulaizing the loss and accuracy for each epoch\n",
    "plt.figure(figsize = (5,3))\n",
    "plt.plot(np.arange(1, epochss + 1), lossmv)\n",
    "plt.title('test loss')\n",
    "\n",
    "plt.figure(figsize = (5,3))\n",
    "plt.plot(np.arange(1, epochss + 1), accmv)\n",
    "plt.title('test accuracy');"
   ]
  },
  {
   "cell_type": "markdown",
   "id": "52f40a33",
   "metadata": {},
   "source": [
    "## CNN\n"
   ]
  },
  {
   "cell_type": "code",
   "execution_count": 25,
   "id": "9d742fe1",
   "metadata": {},
   "outputs": [],
   "source": [
    "class Met(nn.Module):\n",
    "    def __init__(self):\n",
    "        super(Met, self).__init__()\n",
    "        self.conv1 = nn.Conv2d(1,10, kernel_size = 5) #first hidden in 1(because grayscale) out 10\n",
    "        self.conv2 = nn.Conv2d(10,20, kernel_size = 5)#2nd hidden in 10 out 20\n",
    "        self.fc1 = nn.Linear(320, 50)\n",
    "        self.fc2 = nn.Linear(50, 10)\n",
    "        #two convolution layers and 2 linear layrs\n",
    "    def forward(self, X):\n",
    "        X = F.relu(F.max_pool2d(self.conv1(X),2))\n",
    "        X = F.relu(F.max_pool2d(self.conv2(X),2))\n",
    "        X = X.view(-1, 320)\n",
    "        X = F.relu(self.fc1(X))\n",
    "        X = self.fc2(X)\n",
    "        return F.log_softmax(X, dim = 1)  "
   ]
  },
  {
   "cell_type": "code",
   "execution_count": 26,
   "id": "51da9433",
   "metadata": {},
   "outputs": [
    {
     "name": "stdout",
     "output_type": "stream",
     "text": [
      "Met(\n",
      "  (conv1): Conv2d(1, 10, kernel_size=(5, 5), stride=(1, 1))\n",
      "  (conv2): Conv2d(10, 20, kernel_size=(5, 5), stride=(1, 1))\n",
      "  (fc1): Linear(in_features=320, out_features=50, bias=True)\n",
      "  (fc2): Linear(in_features=50, out_features=10, bias=True)\n",
      ")\n"
     ]
    }
   ],
   "source": [
    "network = Met()\n",
    "optimizerc = torch.optim.Adam(network.parameters(), lr = 0.001)\n",
    "criterionc = nn.CrossEntropyLoss()\n",
    "print(network)"
   ]
  },
  {
   "cell_type": "code",
   "execution_count": 27,
   "id": "135e3b82",
   "metadata": {},
   "outputs": [
    {
     "name": "stdout",
     "output_type": "stream",
     "text": [
      "Train Epoch: 10 [0/60000 (0%)]\tLoss: 2.296530\n",
      "Train Epoch: 10 [10000/60000 (17%)]\tLoss: 0.220446\n",
      "Train Epoch: 10 [20000/60000 (33%)]\tLoss: 0.111042\n",
      "Train Epoch: 10 [30000/60000 (50%)]\tLoss: 0.045579\n",
      "Train Epoch: 10 [40000/60000 (67%)]\tLoss: 0.217397\n",
      "Train Epoch: 10 [50000/60000 (83%)]\tLoss: 0.029151\n",
      "\n",
      "Validation set: Average loss: 0.0755, Accuracy: 9746/10000 (97%)\n",
      "\n",
      "Train Epoch: 10 [0/60000 (0%)]\tLoss: 0.064168\n",
      "Train Epoch: 10 [10000/60000 (17%)]\tLoss: 0.043567\n",
      "Train Epoch: 10 [20000/60000 (33%)]\tLoss: 0.066392\n",
      "Train Epoch: 10 [30000/60000 (50%)]\tLoss: 0.058482\n",
      "Train Epoch: 10 [40000/60000 (67%)]\tLoss: 0.170119\n",
      "Train Epoch: 10 [50000/60000 (83%)]\tLoss: 0.151623\n",
      "\n",
      "Validation set: Average loss: 0.0533, Accuracy: 9835/10000 (98%)\n",
      "\n",
      "Train Epoch: 10 [0/60000 (0%)]\tLoss: 0.049813\n",
      "Train Epoch: 10 [10000/60000 (17%)]\tLoss: 0.014604\n",
      "Train Epoch: 10 [20000/60000 (33%)]\tLoss: 0.078536\n",
      "Train Epoch: 10 [30000/60000 (50%)]\tLoss: 0.002273\n",
      "Train Epoch: 10 [40000/60000 (67%)]\tLoss: 0.190528\n",
      "Train Epoch: 10 [50000/60000 (83%)]\tLoss: 0.008255\n",
      "\n",
      "Validation set: Average loss: 0.0365, Accuracy: 9888/10000 (99%)\n",
      "\n",
      "Train Epoch: 10 [0/60000 (0%)]\tLoss: 0.024319\n",
      "Train Epoch: 10 [10000/60000 (17%)]\tLoss: 0.064477\n",
      "Train Epoch: 10 [20000/60000 (33%)]\tLoss: 0.008217\n",
      "Train Epoch: 10 [30000/60000 (50%)]\tLoss: 0.009429\n",
      "Train Epoch: 10 [40000/60000 (67%)]\tLoss: 0.027313\n",
      "Train Epoch: 10 [50000/60000 (83%)]\tLoss: 0.016272\n",
      "\n",
      "Validation set: Average loss: 0.0520, Accuracy: 9829/10000 (98%)\n",
      "\n",
      "Train Epoch: 10 [0/60000 (0%)]\tLoss: 0.056397\n",
      "Train Epoch: 10 [10000/60000 (17%)]\tLoss: 0.056493\n",
      "Train Epoch: 10 [20000/60000 (33%)]\tLoss: 0.010404\n",
      "Train Epoch: 10 [30000/60000 (50%)]\tLoss: 0.056942\n",
      "Train Epoch: 10 [40000/60000 (67%)]\tLoss: 0.007475\n",
      "Train Epoch: 10 [50000/60000 (83%)]\tLoss: 0.000470\n",
      "\n",
      "Validation set: Average loss: 0.0397, Accuracy: 9873/10000 (99%)\n",
      "\n",
      "Train Epoch: 10 [0/60000 (0%)]\tLoss: 0.019492\n",
      "Train Epoch: 10 [10000/60000 (17%)]\tLoss: 0.004838\n",
      "Train Epoch: 10 [20000/60000 (33%)]\tLoss: 0.028129\n",
      "Train Epoch: 10 [30000/60000 (50%)]\tLoss: 0.020995\n",
      "Train Epoch: 10 [40000/60000 (67%)]\tLoss: 0.007810\n",
      "Train Epoch: 10 [50000/60000 (83%)]\tLoss: 0.038014\n",
      "\n",
      "Validation set: Average loss: 0.0345, Accuracy: 9895/10000 (99%)\n",
      "\n",
      "Train Epoch: 10 [0/60000 (0%)]\tLoss: 0.022225\n",
      "Train Epoch: 10 [10000/60000 (17%)]\tLoss: 0.000873\n",
      "Train Epoch: 10 [20000/60000 (33%)]\tLoss: 0.021205\n",
      "Train Epoch: 10 [30000/60000 (50%)]\tLoss: 0.002002\n",
      "Train Epoch: 10 [40000/60000 (67%)]\tLoss: 0.010579\n",
      "Train Epoch: 10 [50000/60000 (83%)]\tLoss: 0.011271\n",
      "\n",
      "Validation set: Average loss: 0.0382, Accuracy: 9873/10000 (99%)\n",
      "\n",
      "Train Epoch: 10 [0/60000 (0%)]\tLoss: 0.029656\n",
      "Train Epoch: 10 [10000/60000 (17%)]\tLoss: 0.020607\n",
      "Train Epoch: 10 [20000/60000 (33%)]\tLoss: 0.000726\n",
      "Train Epoch: 10 [30000/60000 (50%)]\tLoss: 0.002076\n",
      "Train Epoch: 10 [40000/60000 (67%)]\tLoss: 0.195824\n",
      "Train Epoch: 10 [50000/60000 (83%)]\tLoss: 0.055295\n",
      "\n",
      "Validation set: Average loss: 0.0351, Accuracy: 9888/10000 (99%)\n",
      "\n",
      "Train Epoch: 10 [0/60000 (0%)]\tLoss: 0.036373\n",
      "Train Epoch: 10 [10000/60000 (17%)]\tLoss: 0.025226\n",
      "Train Epoch: 10 [20000/60000 (33%)]\tLoss: 0.001808\n",
      "Train Epoch: 10 [30000/60000 (50%)]\tLoss: 0.003121\n",
      "Train Epoch: 10 [40000/60000 (67%)]\tLoss: 0.004912\n",
      "Train Epoch: 10 [50000/60000 (83%)]\tLoss: 0.010188\n",
      "\n",
      "Validation set: Average loss: 0.0346, Accuracy: 9900/10000 (99%)\n",
      "\n",
      "Train Epoch: 10 [0/60000 (0%)]\tLoss: 0.002343\n",
      "Train Epoch: 10 [10000/60000 (17%)]\tLoss: 0.000450\n",
      "Train Epoch: 10 [20000/60000 (33%)]\tLoss: 0.010829\n",
      "Train Epoch: 10 [30000/60000 (50%)]\tLoss: 0.003496\n",
      "Train Epoch: 10 [40000/60000 (67%)]\tLoss: 0.015874\n",
      "Train Epoch: 10 [50000/60000 (83%)]\tLoss: 0.006384\n",
      "\n",
      "Validation set: Average loss: 0.0341, Accuracy: 9903/10000 (99%)\n",
      "\n"
     ]
    }
   ],
   "source": [
    "epochss = 10\n",
    "losscv, acccv = [],[]\n",
    "looop(model = network, epochs = epochss, training_sample = train_sample, testing_sample = test_sample,\n",
    "      optimizer = optimizerc, criterion = criterionc, lossv = losscv, accv = acccv)"
   ]
  },
  {
   "cell_type": "code",
   "execution_count": 29,
   "id": "b8acd746",
   "metadata": {},
   "outputs": [
    {
     "data": {
      "text/plain": [
       "Text(0.5, 1.0, 'test accuracy')"
      ]
     },
     "execution_count": 29,
     "metadata": {},
     "output_type": "execute_result"
    },
    {
     "data": {
      "image/png": "[encoded data removed]",
      "text/plain": [
       "<Figure size 360x216 with 1 Axes>"
      ]
     },
     "metadata": {
      "needs_background": "light"
     },
     "output_type": "display_data"
    },
    {
     "data": {
      "image/png": "[encoded data removed]",
      "text/plain": [
       "<Figure size 360x216 with 1 Axes>"
      ]
     },
     "metadata": {
      "needs_background": "light"
     },
     "output_type": "display_data"
    }
   ],
   "source": [
    "plt.figure(figsize = (5,3))\n",
    "plt.plot(np.arange(1, epochss + 1), losscv)\n",
    "plt.title('test loss')\n",
    "\n",
    "plt.figure(figsize = (5,3))\n",
    "plt.plot(np.arange(1, epochss + 1), acccv)\n",
    "plt.title('test accuracy')"
   ]
  }
 ],
 "metadata": {
  "kernelspec": {
   "display_name": "Python 3",
   "language": "python",
   "name": "python3"
  },
  "language_info": {
   "codemirror_mode": {
    "name": "ipython",
    "version": 3
   },
   "file_extension": ".py",
   "mimetype": "text/x-python",
   "name": "python",
   "nbconvert_exporter": "python",
   "pygments_lexer": "ipython3",
   "version": "3.8.8"
  }
 },
 "nbformat": 4,
 "nbformat_minor": 5
}
